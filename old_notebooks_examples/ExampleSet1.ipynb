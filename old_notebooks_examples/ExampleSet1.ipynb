{
 "cells": [
  {
   "cell_type": "code",
   "execution_count": 3,
   "metadata": {},
   "outputs": [],
   "source": [
    "from ga4gh.vrs import models\n",
    "from ga4gh.core import ga4gh_identify\n",
    "from ga4gh.vrs.dataproxy import SeqRepoRESTDataProxy\n",
    "from ga4gh.vrs.extras.translator import Translator\n",
    "import json"
   ]
  },
  {
   "cell_type": "code",
   "execution_count": null,
   "metadata": {},
   "outputs": [],
   "source": []
  },
  {
   "cell_type": "code",
   "execution_count": 4,
   "metadata": {},
   "outputs": [],
   "source": [
    "from ga4gh.vrs.dataproxy import SeqRepoRESTDataProxy\n",
    "seqrepo_rest_service_url = \"https://services.genomicmedlab.org/seqrepo\"\n",
    "dp = SeqRepoRESTDataProxy(base_url=seqrepo_rest_service_url)\n",
    "\n",
    "def get_sequence(identifier, start=None, end=None):\n",
    "    \"\"\"returns sequence for given identifier, optionally limited\n",
    "    to inter-residue <start, end> interval\"\"\"\n",
    "    return dp.get_sequence(identifier, start, end)\n",
    "def get_sequence_length(identifier):\n",
    "    \"\"\"return length of given sequence identifier\"\"\"\n",
    "    return dp.get_metadata(identifier)[\"length\"]\n",
    "def translate_sequence_identifier(identifier, namespace):\n",
    "    \"\"\"return for given identifier, return *list* of equivalent identifiers in given namespace\"\"\"\n",
    "    return dp.translate_sequence_identifier(identifier, namespace)"
   ]
  },
  {
   "cell_type": "code",
   "execution_count": 9,
   "metadata": {},
   "outputs": [
    {
     "data": {
      "text/plain": [
       "[]"
      ]
     },
     "execution_count": 9,
     "metadata": {},
     "output_type": "execute_result"
    }
   ],
   "source": []
  },
  {
   "cell_type": "code",
   "execution_count": 5,
   "metadata": {},
   "outputs": [],
   "source": [
    "\n",
    "def ppo(o, indent=2):\n",
    "    \"\"\"pretty print object as json\"\"\"\n",
    "    print(json.dumps(o.as_dict(), sort_keys=True, indent=indent))"
   ]
  },
  {
   "cell_type": "code",
   "execution_count": 3,
   "metadata": {},
   "outputs": [],
   "source": [
    "tlr = Translator(data_proxy=dp)"
   ]
  },
  {
   "cell_type": "code",
   "execution_count": 5,
   "metadata": {},
   "outputs": [
    {
     "name": "stdout",
     "output_type": "stream",
     "text": [
      "{\n",
      "  \"members\": [\n",
      "    {\n",
      "      \"_id\": \"ga4gh:VA.z2R5iiJuZkXoa6_I_l9QH0F71oo805Ay\",\n",
      "      \"location\": {\n",
      "        \"_id\": \"ga4gh:VSL.f6s0ONypcisohEAcUOUU7J12i_d4u5pJ\",\n",
      "        \"interval\": {\n",
      "          \"end\": {\n",
      "            \"type\": \"Number\",\n",
      "            \"value\": 18130687\n",
      "          },\n",
      "          \"start\": {\n",
      "            \"type\": \"Number\",\n",
      "            \"value\": 18130686\n",
      "          },\n",
      "          \"type\": \"SequenceInterval\"\n",
      "        },\n",
      "        \"sequence_id\": \"ga4gh:SQ.0iKlIQk2oZLoeOG9P1riRU6hvL5Ux8TV\",\n",
      "        \"type\": \"SequenceLocation\"\n",
      "      },\n",
      "      \"state\": {\n",
      "        \"sequence\": \"C\",\n",
      "        \"type\": \"LiteralSequenceExpression\"\n",
      "      },\n",
      "      \"type\": \"Allele\"\n",
      "    },\n",
      "    {\n",
      "      \"_id\": \"ga4gh:VA.ZmZX3JK5kz9PZ6u_HqjvE_dotExDVzJW\",\n",
      "      \"location\": {\n",
      "        \"_id\": \"ga4gh:VSL.Np5yWQVcl4cdTlwprxcvkXJa6UC45I37\",\n",
      "        \"interval\": {\n",
      "          \"end\": {\n",
      "            \"type\": \"Number\",\n",
      "            \"value\": 18138997\n",
      "          },\n",
      "          \"start\": {\n",
      "            \"type\": \"Number\",\n",
      "            \"value\": 18138996\n",
      "          },\n",
      "          \"type\": \"SequenceInterval\"\n",
      "        },\n",
      "        \"sequence_id\": \"ga4gh:SQ.0iKlIQk2oZLoeOG9P1riRU6hvL5Ux8TV\",\n",
      "        \"type\": \"SequenceLocation\"\n",
      "      },\n",
      "      \"state\": {\n",
      "        \"sequence\": \"T\",\n",
      "        \"type\": \"LiteralSequenceExpression\"\n",
      "      },\n",
      "      \"type\": \"Allele\"\n",
      "    }\n",
      "  ],\n",
      "  \"type\": \"Haplotype\"\n",
      "}\n"
     ]
    }
   ],
   "source": [
    "# HGVS Expression\n",
    "# Link: https://reg.clinicalgenome.org/redmine/projects/registry/genboree_registry/by_caid?caid=CA357862\n",
    "\n",
    "# NC_000006.12:g.[18130687T>C;18138997C>T] \n",
    "\n",
    "hgvs_expr1 = \"NC_000006.12:g.18130687T>C\"\n",
    "hgvs_expr2 = \"NC_000006.12:g.18138997C>T\"\n",
    "\n",
    "allele1 = tlr.translate_from(hgvs_expr1,'hgvs')\n",
    "allele2 = tlr.translate_from(hgvs_expr2,'hgvs')\n",
    "\n",
    "haplotypes = models.Haplotype(members=[allele1,allele2])\n",
    "\n",
    "# from ga4gh.core import ga4gh_identify\n",
    "# once i have the haplotype: \n",
    "# ga4gh_identify(vro-->haplotypes)\n",
    "\n",
    "\n",
    "ppo(haplotypes)"
   ]
  },
  {
   "cell_type": "code",
   "execution_count": null,
   "metadata": {},
   "outputs": [],
   "source": [
    "# for normalizaiton\n",
    "# from ga4gh.vrs import normalize\n",
    "\n",
    "\n",
    "# ßThis is how to normalize alleles and haplotypes"
   ]
  },
  {
   "cell_type": "code",
   "execution_count": null,
   "metadata": {},
   "outputs": [],
   "source": [
    "# TODO:spdi expression from the NCBI api-- try your script \n",
    "\n",
    "{\n",
    "  \"data\": {\n",
    "    \"spdis\": [\n",
    "      {\n",
    "        \"seq_id\": \"NC_000006.12\",\n",
    "        \"position\": 18130686,\n",
    "        \"deleted_sequence\": \"T\",\n",
    "        \"inserted_sequence\": \"C\"\n",
    "      },\n",
    "      {\n",
    "        \"seq_id\": \"NC_000006.12\",\n",
    "        \"position\": 18138996,\n",
    "        \"deleted_sequence\": \"C\",\n",
    "        \"inserted_sequence\": \"T\"\n",
    "      }\n",
    "    ],\n",
    "    \"input_hgvs_validity\": \"valid\"\n",
    "  }\n",
    "}"
   ]
  },
  {
   "cell_type": "code",
   "execution_count": null,
   "metadata": {},
   "outputs": [],
   "source": [
    "CAGCAGCAGCAGCAGCAGCAGCAGCAGCAGCAGCAGCAGCAGCAGCAGCAGCAGCAGCAGCAGCA\n",
    "\n",
    "CAGCAGCAGCAGCAGCAGCAGCAGCAGCAGCAGCAGCAGCAGCAGCAGCAGCAGCAGCAGCAGCAGCAGCAGCAGCAGCAGCA\n"
   ]
  },
  {
   "cell_type": "code",
   "execution_count": 12,
   "metadata": {},
   "outputs": [
    {
     "data": {
      "text/plain": [
       "{'_id': 'ga4gh:VA.jK0gX20_6IrWMg7u1dzQYUYXIcJZVGbm',\n",
       " 'type': 'Allele',\n",
       " 'location': {'_id': 'ga4gh:VSL.YV0yALWM9cbN-iF4axrWM6mbPUS3gEbP',\n",
       "  'type': 'SequenceLocation',\n",
       "  'sequence_id': 'ga4gh:SQ.4qBhnA470l_6xfLWJyi8WkOKeW6u5KJJ',\n",
       "  'interval': {'type': 'SequenceInterval',\n",
       "   'start': {'type': 'Number', 'value': 196},\n",
       "   'end': {'type': 'Number', 'value': 261}}},\n",
       " 'state': {'type': 'LiteralSequenceExpression',\n",
       "  'sequence': 'CAGCAGCAGCAGCAGCAGCAGCAGCAGCAGCAGCAGCAGCAGCAGCAGCAGCAGCAGCAGCAGCAGCAGCAGCAGCAGCAGCA'}}"
      ]
     },
     "execution_count": 12,
     "metadata": {},
     "output_type": "execute_result"
    }
   ],
   "source": [
    "#https://www.ncbi.nlm.nih.gov/clinvar/variation/31915/\n",
    "hgvs_expr3 = 'NM_002111.8:c.52CAG[27_35]'\n",
    "spdi1 = 'NM_002111.6:196:CAGCAGCAGCAGCAGCAGCAGCAGCAGCAGCAGCAGCAGCAGCAGCAGCAGCAGCAGCAGCAGCA:CAGCAGCAGCAGCAGCAGCAGCAGCAGCAGCAGCAGCAGCAGCAGCAGCAGCAGCAGCAGCAGCAGCAGCAGCAGCAGCAGCA'\n",
    "allele3 = tlr.translate_from(spdi1,'spdi')\n",
    "allele3.as_dict()"
   ]
  },
  {
   "cell_type": "code",
   "execution_count": null,
   "metadata": {},
   "outputs": [],
   "source": [
    "# NM_002111.8 refers to the version 8 of the reference transcript or mRNA sequence.\n",
    "# c.52CAG denotes a change at position 52, where CAG is the original sequence.\n",
    "# [27_35] indicates an insertion or duplication of the CAG sequence from position 27 to 35.\n",
    "\n",
    "# Start position = 52 --> 51 zero base indexing -- double check \n",
    "# end position = 60 --> 59 zero base indexing -- double check \n",
    "\n",
    "# The change at position 52 is the substitution of the original sequence \"CAG\" with the inserted or duplicated \n",
    "# sequence spanning positions 27 to 35 within the context of the reference transcript NM_002111.8."
   ]
  },
  {
   "cell_type": "code",
   "execution_count": null,
   "metadata": {},
   "outputs": [],
   "source": [
    "# first let's specify the sequence interval and chromosome that got duplicated\n",
    "\n",
    "# Work on this tomorrow\n",
    "\n",
    "        # interval = models.SequenceInterval(start=models.Number(value=52, type=\"Number\"), \n",
    "        #                                    end=models.Number(value=60, type=\"Number\"), \n",
    "        #                                    type=\"SequenceInterval\")\n",
    "        # location = models.SequenceLocation(interval=interval,\n",
    "        #                                    sequence_id=\"refseq:NM_002111.8 \",\n",
    "        #                                    type=\"SequenceLocation\")\n",
    "\n",
    "        # derivedseq = models.DerivedSequenceExpression(location=location, reverse_complement=False, type=\"DerivedSequenceExpression\")\n",
    "\n",
    "        # cnv_count = models.IndefiniteRange(value=8, type=\"Number\")\n",
    "\n",
    "        # tandem_repeat = models.RepeatedSequenceExpression(seq_expr=derivedseq, count=cnv_count, type=\"RepeatedSequenceExpression\")\n"
   ]
  },
  {
   "cell_type": "code",
   "execution_count": null,
   "metadata": {},
   "outputs": [],
   "source": [
    "# In general, one identifier may be related to many others in another namespace\n",
    "# Therefore, translate_sequence_identifier() returns a list.\n",
    "# Because there will be only 1 ga4gh sequence digest, we choose the first\n",
    "# and then replace the sequence id in allele.location.\n",
    "\n",
    "\n",
    "# refseq_ir = str(allele.location.sequence_id)\n",
    "# ga4gh_ir = dp.translate_sequence_identifier(refseq_ir, \"ga4gh\")[0]\n",
    "# ga4gh_ir\n",
    "\n",
    "# Now, simply replace the identifier with the GA4GH identifier\n",
    "\n",
    "\n",
    "# allele.location.sequence_id = ga4gh_ir\n",
    "# allele.as_dict()"
   ]
  },
  {
   "cell_type": "code",
   "execution_count": 1,
   "metadata": {},
   "outputs": [
    {
     "ename": "NameError",
     "evalue": "name 'models' is not defined",
     "output_type": "error",
     "traceback": [
      "\u001b[0;31m---------------------------------------------------------------------------\u001b[0m",
      "\u001b[0;31mNameError\u001b[0m                                 Traceback (most recent call last)",
      "\u001b[1;32m/Users/M278428/Documents/educational_notebooks/ExampleSet1.ipynb Cell 12\u001b[0m in \u001b[0;36m1\n\u001b[0;32m----> <a href='vscode-notebook-cell:/Users/M278428/Documents/educational_notebooks/ExampleSet1.ipynb#X13sZmlsZQ%3D%3D?line=0'>1</a>\u001b[0m interval \u001b[39m=\u001b[39m models\u001b[39m.\u001b[39mSequenceInterval(\u001b[39mtype\u001b[39m\u001b[39m=\u001b[39m\u001b[39m'\u001b[39m\u001b[39mSequenceLocation\u001b[39m\u001b[39m'\u001b[39m,\n\u001b[1;32m      <a href='vscode-notebook-cell:/Users/M278428/Documents/educational_notebooks/ExampleSet1.ipynb#X13sZmlsZQ%3D%3D?line=1'>2</a>\u001b[0m                                    start\u001b[39m=\u001b[39mmodels\u001b[39m.\u001b[39mNumber(value\u001b[39m=\u001b[39m\u001b[39m52\u001b[39m, \u001b[39mtype\u001b[39m\u001b[39m=\u001b[39m\u001b[39m\"\u001b[39m\u001b[39mNumber\u001b[39m\u001b[39m\"\u001b[39m),\n\u001b[1;32m      <a href='vscode-notebook-cell:/Users/M278428/Documents/educational_notebooks/ExampleSet1.ipynb#X13sZmlsZQ%3D%3D?line=2'>3</a>\u001b[0m                                    end\u001b[39m=\u001b[39mmodels\u001b[39m.\u001b[39mNumber(value\u001b[39m=\u001b[39m\u001b[39m60\u001b[39m,\u001b[39mtype\u001b[39m\u001b[39m=\u001b[39m\u001b[39m\"\u001b[39m\u001b[39mNumber\u001b[39m\u001b[39m\"\u001b[39m))\n\u001b[1;32m      <a href='vscode-notebook-cell:/Users/M278428/Documents/educational_notebooks/ExampleSet1.ipynb#X13sZmlsZQ%3D%3D?line=3'>4</a>\u001b[0m location \u001b[39m=\u001b[39m models\u001b[39m.\u001b[39mSequenceLocation(\u001b[39mtype\u001b[39m\u001b[39m=\u001b[39m\u001b[39m'\u001b[39m\u001b[39mSequenceLocation\u001b[39m\u001b[39m'\u001b[39m,\n\u001b[1;32m      <a href='vscode-notebook-cell:/Users/M278428/Documents/educational_notebooks/ExampleSet1.ipynb#X13sZmlsZQ%3D%3D?line=4'>5</a>\u001b[0m                                    sequence_id\u001b[39m=\u001b[39m\u001b[39m'\u001b[39m\u001b[39mrefseq:NM_002111.8\u001b[39m\u001b[39m'\u001b[39m,\n\u001b[1;32m      <a href='vscode-notebook-cell:/Users/M278428/Documents/educational_notebooks/ExampleSet1.ipynb#X13sZmlsZQ%3D%3D?line=5'>6</a>\u001b[0m                                    interval\u001b[39m=\u001b[39minterval)\n",
      "\u001b[0;31mNameError\u001b[0m: name 'models' is not defined"
     ]
    }
   ],
   "source": [
    "interval = models.SequenceInterval(type='SequenceLocation',\n",
    "                                   start=models.Number(value=52, type=\"Number\"),\n",
    "                                   end=models.Number(value=60,type=\"Number\"))\n",
    "location = models.SequenceLocation(type='SequenceLocation',\n",
    "                                   sequence_id='refseq:NM_002111.8',\n",
    "                                   interval=interval)\n"
   ]
  },
  {
   "cell_type": "code",
   "execution_count": null,
   "metadata": {},
   "outputs": [],
   "source": [
    "# seq_expr\n",
    "literalseq = models.LiteralSequenceExpression(type = 'LiteralSequenceExpression',sequence = 'CAG')\n",
    "numb = models.Number(type = 'Number',value = 9)\n",
    "\n",
    "state = models.RepeatedSequenceExpression(seq_expr = literalseq, count = numb)"
   ]
  },
  {
   "cell_type": "code",
   "execution_count": 2,
   "metadata": {},
   "outputs": [
    {
     "ename": "NameError",
     "evalue": "name 'models' is not defined",
     "output_type": "error",
     "traceback": [
      "\u001b[0;31m---------------------------------------------------------------------------\u001b[0m",
      "\u001b[0;31mNameError\u001b[0m                                 Traceback (most recent call last)",
      "\u001b[1;32m/Users/M278428/Documents/educational_notebooks/ExampleSet1.ipynb Cell 14\u001b[0m in \u001b[0;36m1\n\u001b[0;32m----> <a href='vscode-notebook-cell:/Users/M278428/Documents/educational_notebooks/ExampleSet1.ipynb#X15sZmlsZQ%3D%3D?line=0'>1</a>\u001b[0m a1 \u001b[39m=\u001b[39m models\u001b[39m.\u001b[39mAllele(\u001b[39mtype\u001b[39m \u001b[39m=\u001b[39m \u001b[39m'\u001b[39m\u001b[39mAllele\u001b[39m\u001b[39m'\u001b[39m,location\u001b[39m=\u001b[39mlocation,state\u001b[39m=\u001b[39mstate)\n\u001b[1;32m      <a href='vscode-notebook-cell:/Users/M278428/Documents/educational_notebooks/ExampleSet1.ipynb#X15sZmlsZQ%3D%3D?line=1'>2</a>\u001b[0m ppo(a1)\n",
      "\u001b[0;31mNameError\u001b[0m: name 'models' is not defined"
     ]
    }
   ],
   "source": [
    "a1 = models.Allele(type = 'Allele',location=location,state=state)\n",
    "ppo(a1)"
   ]
  },
  {
   "cell_type": "code",
   "execution_count": null,
   "metadata": {},
   "outputs": [],
   "source": []
  }
 ],
 "metadata": {
  "kernelspec": {
   "display_name": "test_dev_vrs_installation",
   "language": "python",
   "name": "python3"
  },
  "language_info": {
   "codemirror_mode": {
    "name": "ipython",
    "version": 3
   },
   "file_extension": ".py",
   "mimetype": "text/x-python",
   "name": "python",
   "nbconvert_exporter": "python",
   "pygments_lexer": "ipython3",
   "version": "3.9.15"
  },
  "orig_nbformat": 4
 },
 "nbformat": 4,
 "nbformat_minor": 2
}
